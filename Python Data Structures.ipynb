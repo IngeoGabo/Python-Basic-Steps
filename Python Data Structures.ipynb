{
 "cells": [
  {
   "cell_type": "markdown",
   "metadata": {},
   "source": [
    "# Hello EVERYONE!"
   ]
  },
  {
   "cell_type": "markdown",
   "metadata": {},
   "source": [
    "## 6.1 Strings part 1  "
   ]
  },
  {
   "cell_type": "markdown",
   "metadata": {},
   "source": [
    "For strings '+' means \"concatenate\"\n"
   ]
  },
  {
   "cell_type": "code",
   "execution_count": null,
   "metadata": {},
   "outputs": [],
   "source": [
    "ival = input('enter a word or number')\n",
    "print(ival)"
   ]
  },
  {
   "cell_type": "code",
   "execution_count": 2,
   "metadata": {},
   "outputs": [
    {
     "data": {
      "text/plain": [
       "str"
      ]
     },
     "execution_count": 2,
     "metadata": {},
     "output_type": "execute_result"
    }
   ],
   "source": [
    "type(ival)"
   ]
  },
  {
   "cell_type": "code",
   "execution_count": 4,
   "metadata": {},
   "outputs": [
    {
     "name": "stdout",
     "output_type": "stream",
     "text": [
      "a\n"
     ]
    }
   ],
   "source": [
    "fruit = 'Banana' # has 6 characters starting from 0\n",
    "letter = fruit[1] # with square brackets i do select the index value which correspond in the banana string\n",
    "print(letter)\n"
   ]
  },
  {
   "cell_type": "code",
   "execution_count": 5,
   "metadata": {},
   "outputs": [
    {
     "name": "stdout",
     "output_type": "stream",
     "text": [
      "6\n"
     ]
    }
   ],
   "source": [
    "# Len Function\n",
    "\n",
    "fruit = 'Banana' \n",
    "x = len(fruit) \n",
    "print(x)"
   ]
  },
  {
   "cell_type": "code",
   "execution_count": 6,
   "metadata": {},
   "outputs": [
    {
     "name": "stdout",
     "output_type": "stream",
     "text": [
      "0 B\n",
      "1 a\n",
      "2 n\n",
      "3 a\n",
      "4 n\n",
      "5 a\n"
     ]
    }
   ],
   "source": [
    "#looping through strings\n",
    "\n",
    "fruit = 'Banana'\n",
    "index = 0\n",
    "\n",
    "while index < len(fruit):\n",
    "    x = fruit[index]\n",
    "    print (index, x)\n",
    "    index = index + 1"
   ]
  },
  {
   "cell_type": "code",
   "execution_count": 7,
   "metadata": {},
   "outputs": [
    {
     "name": "stdout",
     "output_type": "stream",
     "text": [
      "0 B\n",
      "1 a\n",
      "2 n\n",
      "3 a\n",
      "4 n\n",
      "5 a\n"
     ]
    }
   ],
   "source": [
    "fruit = 'Banana'\n",
    "index = 0\n",
    "\n",
    "for i in fruit:\n",
    "    print(index, i)\n",
    "    index = index + 1"
   ]
  },
  {
   "cell_type": "code",
   "execution_count": 9,
   "metadata": {},
   "outputs": [
    {
     "name": "stdout",
     "output_type": "stream",
     "text": [
      "mont\n",
      "p\n"
     ]
    }
   ],
   "source": [
    "# Slicing strings\n",
    "\n",
    "s = \"monty python\"\n",
    "print(s[0:4]) #it will take from 0 until 4, but it won't include the 4. that means: 0, 1, 2, 3\n",
    "\n",
    "print(s[6:7]) #it will take from 6 until 7, but it won't include the 7. that means: 6"
   ]
  },
  {
   "cell_type": "code",
   "execution_count": 10,
   "metadata": {},
   "outputs": [
    {
     "name": "stdout",
     "output_type": "stream",
     "text": [
      "mont\n",
      "thon\n",
      "monty python\n"
     ]
    }
   ],
   "source": [
    "s = \"monty python\"\n",
    "print(s[:4]) #it will take from 0 until 4, but without including 4. The \":4\" meas from the beggining until 4\n",
    "\n",
    "print(s[8:]) #The \"8:\" meas from the 8 until the end\n",
    "\n",
    "print(s[:]) #The \":\" meas from the beggining until the end"
   ]
  },
  {
   "cell_type": "markdown",
   "metadata": {},
   "source": [
    "## 6.2 Manipulating Strings "
   ]
  },
  {
   "cell_type": "code",
   "execution_count": 13,
   "metadata": {},
   "outputs": [
    {
     "data": {
      "text/plain": [
       "True"
      ]
     },
     "execution_count": 13,
     "metadata": {},
     "output_type": "execute_result"
    }
   ],
   "source": [
    "#Using 'in' as a logical operator \n",
    "\n",
    "fruit = 'banana'\n",
    "\n",
    "'n' in fruit #in is a logical expression that returns True or False  and can be used as a if statement "
   ]
  },
  {
   "cell_type": "code",
   "execution_count": 14,
   "metadata": {},
   "outputs": [
    {
     "name": "stdout",
     "output_type": "stream",
     "text": [
      "Found it\n"
     ]
    }
   ],
   "source": [
    "if 'a' in fruit:\n",
    "    print('Found it')"
   ]
  },
  {
   "cell_type": "code",
   "execution_count": 17,
   "metadata": {},
   "outputs": [
    {
     "name": "stdout",
     "output_type": "stream",
     "text": [
      "hello bob\n",
      "Hello Bob\n",
      "hello bob\n"
     ]
    }
   ],
   "source": [
    "#String Library. We invoke them by appending the funtion to the string variable\n",
    "\n",
    "greet = 'Hello Bob'\n",
    "zap = greet.lower() #.lower() make the string become into lower case\n",
    "\n",
    "print(zap)\n",
    "print(greet)\n",
    "print('Hello Bob'.lower())"
   ]
  },
  {
   "cell_type": "code",
   "execution_count": 21,
   "metadata": {},
   "outputs": [
    {
     "data": {
      "text/plain": [
       "['__add__',\n",
       " '__class__',\n",
       " '__contains__',\n",
       " '__delattr__',\n",
       " '__dir__',\n",
       " '__doc__',\n",
       " '__eq__',\n",
       " '__format__',\n",
       " '__ge__',\n",
       " '__getattribute__',\n",
       " '__getitem__',\n",
       " '__getnewargs__',\n",
       " '__getstate__',\n",
       " '__gt__',\n",
       " '__hash__',\n",
       " '__init__',\n",
       " '__init_subclass__',\n",
       " '__iter__',\n",
       " '__le__',\n",
       " '__len__',\n",
       " '__lt__',\n",
       " '__mod__',\n",
       " '__mul__',\n",
       " '__ne__',\n",
       " '__new__',\n",
       " '__reduce__',\n",
       " '__reduce_ex__',\n",
       " '__repr__',\n",
       " '__rmod__',\n",
       " '__rmul__',\n",
       " '__setattr__',\n",
       " '__sizeof__',\n",
       " '__str__',\n",
       " '__subclasshook__',\n",
       " 'capitalize',\n",
       " 'casefold',\n",
       " 'center',\n",
       " 'count',\n",
       " 'encode',\n",
       " 'endswith',\n",
       " 'expandtabs',\n",
       " 'find',\n",
       " 'format',\n",
       " 'format_map',\n",
       " 'index',\n",
       " 'isalnum',\n",
       " 'isalpha',\n",
       " 'isascii',\n",
       " 'isdecimal',\n",
       " 'isdigit',\n",
       " 'isidentifier',\n",
       " 'islower',\n",
       " 'isnumeric',\n",
       " 'isprintable',\n",
       " 'isspace',\n",
       " 'istitle',\n",
       " 'isupper',\n",
       " 'join',\n",
       " 'ljust',\n",
       " 'lower',\n",
       " 'lstrip',\n",
       " 'maketrans',\n",
       " 'partition',\n",
       " 'removeprefix',\n",
       " 'removesuffix',\n",
       " 'replace',\n",
       " 'rfind',\n",
       " 'rindex',\n",
       " 'rjust',\n",
       " 'rpartition',\n",
       " 'rsplit',\n",
       " 'rstrip',\n",
       " 'split',\n",
       " 'splitlines',\n",
       " 'startswith',\n",
       " 'strip',\n",
       " 'swapcase',\n",
       " 'title',\n",
       " 'translate',\n",
       " 'upper',\n",
       " 'zfill']"
      ]
     },
     "execution_count": 21,
     "metadata": {},
     "output_type": "execute_result"
    }
   ],
   "source": [
    "# Methods in class str\n",
    "\n",
    "stuff = 'Hello World'\n",
    "type(stuff)\n",
    "dir(stuff)\n",
    "\n",
    "# stuff. ..."
   ]
  },
  {
   "cell_type": "markdown",
   "metadata": {},
   "source": [
    "#### 6.5 Write code using find() and string slicing (see section 6.10) to extract the number at the end of the line below. Convert the extracted value to a floating point number and print it out."
   ]
  },
  {
   "cell_type": "code",
   "execution_count": 37,
   "metadata": {},
   "outputs": [
    {
     "name": "stdout",
     "output_type": "stream",
     "text": [
      "23\n"
     ]
    }
   ],
   "source": [
    "text = \"X-DSPAM-Confidence:    0.8475\"\n",
    "\n",
    "str = text.find('0.8475')\n",
    "\n",
    "print(str)\n",
    "\n",
    "# ival = float(text[23:])\n",
    "# print(ival)\n",
    "\n"
   ]
  },
  {
   "cell_type": "code",
   "execution_count": 9,
   "metadata": {},
   "outputs": [
    {
     "name": "stdout",
     "output_type": "stream",
     "text": [
      "0 1\n",
      "1 2\n",
      "2 4\n",
      "3 5\n",
      "4 6\n",
      "5 7\n",
      "6 9\n",
      "7 8\n",
      "8 11\n",
      "9 14\n",
      "10 15\n"
     ]
    }
   ],
   "source": [
    "x = [1,2,4,5,6,7,9,8,11,14,15]\n",
    "count = 0\n",
    "\n",
    "for i in x:\n",
    "    print(count,i)\n",
    "    count = count + 1\n",
    "    "
   ]
  },
  {
   "cell_type": "markdown",
   "metadata": {},
   "source": [
    "## 7.2 Processing Files"
   ]
  },
  {
   "cell_type": "code",
   "execution_count": null,
   "metadata": {},
   "outputs": [],
   "source": [
    "# File handle as a sequence \n",
    "\n",
    "xfile = open('mbox.txt')\n",
    "for cheese in xfile:\n",
    "    print(cheese)"
   ]
  },
  {
   "cell_type": "code",
   "execution_count": null,
   "metadata": {},
   "outputs": [],
   "source": [
    "#counting lines in a file\n",
    "\n",
    "xfile = open('mbox.txt')\n",
    "count = 0\n",
    "for i in xfile:\n",
    "    count = count + 1\n",
    "print('line count:', count)\n",
    "\n",
    "#it will return the numbers of lines in that file"
   ]
  },
  {
   "cell_type": "code",
   "execution_count": null,
   "metadata": {},
   "outputs": [],
   "source": [
    "# Reading the whole file\n",
    "\n",
    "fhand = opne('mbox-short.txt')\n",
    "inp = fhand.read()\n",
    "print(len(inp))\n",
    "#it will return the count of lines\n",
    "print(inp[:20])\n",
    "#it will return the first 20 letters"
   ]
  },
  {
   "cell_type": "code",
   "execution_count": null,
   "metadata": {},
   "outputs": [],
   "source": [
    "# Searching through a file \n",
    "\n",
    "fhand = open('mbox-short.txt')\n",
    "for line in fhand:\n",
    "    lines = line.rstrip()\n",
    "    if line.startswith('From:'):\n",
    "        print(line)"
   ]
  },
  {
   "cell_type": "markdown",
   "metadata": {},
   "source": [
    "#### 7.1 Write a program that prompts for a file name, then opens that file and reads through the file, and print the contents of the file in upper case. Use the file words.txt to produce the output below.\n",
    "You can download the sample data at http://www.py4e.com/code3/words.txt"
   ]
  },
  {
   "cell_type": "code",
   "execution_count": null,
   "metadata": {},
   "outputs": [],
   "source": [
    "# Use words.txt as the file name\n",
    "fname = input(\"Enter file name: \")\n",
    "fh = open(fname)\n",
    "\n",
    "for i in fh:\n",
    "    i = i.rstrip()\n",
    "    print(i.upper())"
   ]
  },
  {
   "cell_type": "markdown",
   "metadata": {},
   "source": [
    "#### 7.2 Write a program that prompts for a file name, then opens that file and reads through the file, looking for lines of the form:\n",
    "X-DSPAM-Confidence:    0.8475\n",
    "\n",
    "Count these lines and extract the floating point values from each of the lines and compute the average of those values and produce an output as shown below. Do not use the sum() function or a variable named sum in your solution.\n",
    "You can download the sample data at http://www.py4e.com/code3/mbox-short.txt when you are testing below enter mbox-short.txt as the file name."
   ]
  },
  {
   "cell_type": "code",
   "execution_count": 59,
   "metadata": {},
   "outputs": [
    {
     "name": "stdout",
     "output_type": "stream",
     "text": [
      "Average spam confidence: 0.7507185185185187\n"
     ]
    }
   ],
   "source": [
    "# Use the file name mbox-short.txt as the file name\n",
    "fname = input(\"Enter file name: \")\n",
    "fh = open(fname)\n",
    "count = 0\n",
    "total = 0\n",
    "\n",
    "for i in fh:\n",
    "    y = i.rstrip()\n",
    "    \n",
    "    if not y.startswith('X-DSPAM-Confidence:'):\n",
    "        continue\n",
    "\n",
    "    #print(y[20:])\n",
    "    #print(count, total, y[20:])\n",
    "    count = count + 1\n",
    "    total = total + float(y[20:])\n",
    "\n",
    "    avr = total/count\n",
    "\n",
    "print('Average spam confidence:', avr)"
   ]
  },
  {
   "cell_type": "markdown",
   "metadata": {},
   "source": [
    "## 8.1 List"
   ]
  },
  {
   "cell_type": "markdown",
   "metadata": {},
   "source": [
    "### Programming\n",
    "\n",
    "#### Algorithms\n",
    "\n",
    "A set of rules or steps used to solve a problem\n",
    "\n",
    "#### Data Structures\n",
    "\n",
    "A particular way of organizing data in a computer"
   ]
  },
  {
   "cell_type": "code",
   "execution_count": 6,
   "metadata": {},
   "outputs": [
    {
     "name": "stdout",
     "output_type": "stream",
     "text": [
      "5\n",
      "[0, 1, 2, 3, 4]\n"
     ]
    }
   ],
   "source": [
    "friends = ['Caro', 'Gabo', 'Mateo', 'Carlos', 'Esteban']\n",
    "print(len(friends))\n",
    "print(list(range(len(friends))))\n",
    "\n",
    "#the range function returns a list of numbers that range fro zero to one less than the parameter"
   ]
  },
  {
   "cell_type": "code",
   "execution_count": 22,
   "metadata": {},
   "outputs": [
    {
     "name": "stdout",
     "output_type": "stream",
     "text": [
      "Happy new year: Caro\n",
      "Happy new year: Gabo\n",
      "Happy new year: Mateo\n",
      "Happy new year: Carlos\n",
      "Happy new year: Esteban\n"
     ]
    }
   ],
   "source": [
    "friends = ['Caro', 'Gabo', 'Mateo', 'Carlos', 'Esteban']\n",
    "\n",
    "for i in range(len(friends)): #\n",
    "    friend = friends[i]\n",
    "    print('Happy new year:', friend)"
   ]
  },
  {
   "cell_type": "code",
   "execution_count": 23,
   "metadata": {},
   "outputs": [
    {
     "data": {
      "text/plain": [
       "['__add__',\n",
       " '__class__',\n",
       " '__class_getitem__',\n",
       " '__contains__',\n",
       " '__delattr__',\n",
       " '__delitem__',\n",
       " '__dir__',\n",
       " '__doc__',\n",
       " '__eq__',\n",
       " '__format__',\n",
       " '__ge__',\n",
       " '__getattribute__',\n",
       " '__getitem__',\n",
       " '__getstate__',\n",
       " '__gt__',\n",
       " '__hash__',\n",
       " '__iadd__',\n",
       " '__imul__',\n",
       " '__init__',\n",
       " '__init_subclass__',\n",
       " '__iter__',\n",
       " '__le__',\n",
       " '__len__',\n",
       " '__lt__',\n",
       " '__mul__',\n",
       " '__ne__',\n",
       " '__new__',\n",
       " '__reduce__',\n",
       " '__reduce_ex__',\n",
       " '__repr__',\n",
       " '__reversed__',\n",
       " '__rmul__',\n",
       " '__setattr__',\n",
       " '__setitem__',\n",
       " '__sizeof__',\n",
       " '__str__',\n",
       " '__subclasshook__',\n",
       " 'append',\n",
       " 'clear',\n",
       " 'copy',\n",
       " 'count',\n",
       " 'extend',\n",
       " 'index',\n",
       " 'insert',\n",
       " 'pop',\n",
       " 'remove',\n",
       " 'reverse',\n",
       " 'sort']"
      ]
     },
     "execution_count": 23,
     "metadata": {},
     "output_type": "execute_result"
    }
   ],
   "source": [
    "x = list()\n",
    "type (x)\n",
    "dir(x)"
   ]
  },
  {
   "cell_type": "code",
   "execution_count": 29,
   "metadata": {},
   "outputs": [
    {
     "name": "stdout",
     "output_type": "stream",
     "text": [
      "[2, 4, 6, 8, 10, 14, 134, 466, 46]\n"
     ]
    }
   ],
   "source": [
    "# Building a list from scratch\n",
    "\n",
    "# We can create an empty list and then add elements using the append method\n",
    "\n",
    "# The list stays in order and new elements are added at the end of the list\n",
    "\n",
    "numbers = [1,2,3,4,5,7,67,233,23,]\n",
    "\n",
    "stuff = list() # i can use either list() or []\n",
    "\n",
    "#for i in range(len(numbers)):\n",
    "for i in numbers:\n",
    "    stuff.append(2*i)\n",
    "\n",
    "print(stuff)\n"
   ]
  },
  {
   "cell_type": "code",
   "execution_count": 32,
   "metadata": {},
   "outputs": [
    {
     "name": "stdout",
     "output_type": "stream",
     "text": [
      "9\n",
      "233\n",
      "1\n",
      "345\n",
      "38.333333333333336\n"
     ]
    }
   ],
   "source": [
    "# Buit in functions and list\n",
    "\n",
    "numbers = [1,2,3,4,5,7,67,233,23]\n",
    "\n",
    "print(len(numbers))\n",
    "print(max(numbers))\n",
    "print(min(numbers))\n",
    "print(sum(numbers))\n",
    "print(sum(numbers)/len(numbers))\n",
    "\n"
   ]
  },
  {
   "cell_type": "code",
   "execution_count": 38,
   "metadata": {},
   "outputs": [
    {
     "name": "stdout",
     "output_type": "stream",
     "text": [
      "['with', 'three', 'words']\n",
      "3\n",
      "with\n",
      "\n",
      "with\n",
      "three\n",
      "words\n"
     ]
    }
   ],
   "source": [
    "# String and lists\n",
    "\n",
    "abc = 'with three words'\n",
    "stuff = abc.split() # Split makes the str become into a list with the words as a elements of the list\n",
    "print(stuff)\n",
    "print(len(stuff))\n",
    "print(stuff[0])\n",
    "print()\n",
    "for w in stuff:\n",
    "    print(w)"
   ]
  },
  {
   "cell_type": "code",
   "execution_count": 43,
   "metadata": {},
   "outputs": [
    {
     "name": "stdout",
     "output_type": "stream",
     "text": [
      "['first;Second;Third']\n",
      "1\n",
      "\n",
      "['first', 'Second', 'Third']\n",
      "3\n"
     ]
    }
   ],
   "source": [
    "line = 'first;Second;Third'\n",
    "stuff = line.split()\n",
    "print(stuff)\n",
    "print(len(stuff))\n",
    "print()\n",
    "stuff = line.split(';')\n",
    "print(stuff)\n",
    "print(len(stuff))"
   ]
  },
  {
   "cell_type": "code",
   "execution_count": 51,
   "metadata": {},
   "outputs": [
    {
     "name": "stdout",
     "output_type": "stream",
     "text": [
      "['from', 'Joocampog@unal.edu.co', 'at', 'friday']\n",
      "4\n",
      "\n",
      "['Joocampog', 'unal.edu.co']\n",
      "2\n"
     ]
    }
   ],
   "source": [
    "words = 'from Joocampog@unal.edu.co at friday'\n",
    "\n",
    "piece1 = words.split()\n",
    "print(piece1)\n",
    "print(len(piece1))\n",
    "print()\n",
    "\n",
    "piece2 = piece1[1].split('@')\n",
    "print(piece2)\n",
    "print(len(piece2))\n",
    "\n"
   ]
  },
  {
   "cell_type": "code",
   "execution_count": 54,
   "metadata": {},
   "outputs": [
    {
     "name": "stdout",
     "output_type": "stream",
     "text": [
      "[0, 1, 2, 3, 4]\n"
     ]
    },
    {
     "data": {
      "text/plain": [
       "list"
      ]
     },
     "execution_count": 54,
     "metadata": {},
     "output_type": "execute_result"
    }
   ],
   "source": [
    "x = list(range(5))\n",
    "print(x)\n",
    "type(x)"
   ]
  },
  {
   "cell_type": "code",
   "execution_count": 55,
   "metadata": {},
   "outputs": [
    {
     "name": "stdout",
     "output_type": "stream",
     "text": [
      "6\n"
     ]
    }
   ],
   "source": [
    "a = [1, 2, 3]\n",
    "b = [4, 5, 6]\n",
    "c = a + b\n",
    "print(len(c))"
   ]
  },
  {
   "cell_type": "code",
   "execution_count": 56,
   "metadata": {},
   "outputs": [
    {
     "name": "stdout",
     "output_type": "stream",
     "text": [
      "Glenn\n"
     ]
    }
   ],
   "source": [
    "friends = [ 'Joseph', 'Glenn', 'Sally' ]\n",
    "friends.sort()\n",
    "print(friends[0])"
   ]
  },
  {
   "cell_type": "markdown",
   "metadata": {},
   "source": [
    "#### 8.4 Open the file romeo.txt and read it line by line. For each line, split the line into a list of words using the split() method. The program should build a list of words. For each word on each line check to see if the word is already in the list and if not append it to the list. When the program completes, sort and print the resulting words in python sort() order as shown in the desired output.\n",
    "You can download the sample data at http://www.py4e.com/code3/romeo.txt"
   ]
  },
  {
   "cell_type": "code",
   "execution_count": 7,
   "metadata": {},
   "outputs": [
    {
     "name": "stdout",
     "output_type": "stream",
     "text": [
      "25\n",
      "['Arise', 'But', 'It', 'Juliet', 'Who', 'already', 'and', 'breaks', 'east', 'envious', 'fair', 'grief', 'is', 'kill', 'light', 'moon', 'pale', 'sick', 'soft', 'sun', 'the', 'through', 'what', 'window', 'with', 'yonder']\n"
     ]
    }
   ],
   "source": [
    "# romeo.txt\n",
    "#fn = input('Enter file name: ')\n",
    "fh = open('romeo.txt')\n",
    "\n",
    "lst = []\n",
    "\n",
    "for i in fh:\n",
    "\n",
    "    lst.append(i)\n",
    "\n",
    "y = ' '.join(lst)  #Con join convierto la lista en un str donde ' ' es el parametro que separa cada str  \n",
    "#y = lst[0]+lst[1]+lst[2]+lst[3]\n",
    "\n",
    "\n",
    "x = y.split()\n",
    "x.sort()\n",
    "\n",
    "eli = x.index('the')\n",
    "\n",
    "del x[6:8]\n",
    "del x[12:14]\n",
    "del x[19:20]\n",
    "del x[20:22]\n",
    "\n",
    "\n",
    "print(eli)\n",
    "print(x)\n",
    "# print(len(lst))\n",
    "   \n"
   ]
  },
  {
   "cell_type": "code",
   "execution_count": 91,
   "metadata": {},
   "outputs": [
    {
     "name": "stdout",
     "output_type": "stream",
     "text": [
      "['Arise', 'But', 'It', 'Juliet', 'Who', 'already', 'and', 'breaks', 'east', 'envious', 'fair', 'grief', 'is', 'kill', 'light', 'moon', 'pale', 'sick', 'soft', 'sun', 'the', 'through', 'what', 'window', 'with', 'yonder']\n"
     ]
    }
   ],
   "source": [
    "# romeo.txt\n",
    "#fn = input('Enter file name: ')\n",
    "fh = open('romeo.txt')\n",
    "\n",
    "lst = []\n",
    "\n",
    "for i in fh:\n",
    "    \n",
    "    y = i.strip().split() # for parsing the lines\n",
    "                          # y = lines\n",
    "\n",
    "    for n in y:           # for parsing the words into the lines\n",
    "        #lst.append(n)    # n = words\n",
    "\n",
    "        if n not in lst:  # if a word is not in the list, then add that word to the list \n",
    "            lst.append(n) # with this method you won't repeat words in a list\n",
    "\n",
    "        #if n not in y:\n",
    "            \n",
    "  \n",
    "lst.sort()    \n",
    "print(lst)\n",
    "    \n",
    "\n"
   ]
  },
  {
   "cell_type": "markdown",
   "metadata": {},
   "source": [
    "#### 8.5 Open the file mbox-short.txt and read it line by line. When you find a line that starts with 'From ' like the following line:\n",
    "From stephen.marquard@uct.ac.za Sat Jan  5 09:14:16 2008\n",
    "\n",
    "You will parse the From line using split() and print out the second word in the line (i.e. the entire address of the person who sent the message). Then print out a count at the end.\n",
    "Hint: make sure not to include the lines that start with 'From:'. Also look at the last line of the sample output to see how to print the count.\n",
    "\n",
    "You can download the sample data at http://www.py4e.com/code3/mbox-short.txt"
   ]
  },
  {
   "cell_type": "code",
   "execution_count": 140,
   "metadata": {},
   "outputs": [
    {
     "name": "stdout",
     "output_type": "stream",
     "text": [
      "stephen.marquard@uct.ac.za\n",
      "louis@media.berkeley.edu\n",
      "zqian@umich.edu\n",
      "rjlowe@iupui.edu\n",
      "zqian@umich.edu\n",
      "rjlowe@iupui.edu\n",
      "cwen@iupui.edu\n",
      "cwen@iupui.edu\n",
      "gsilver@umich.edu\n",
      "gsilver@umich.edu\n",
      "zqian@umich.edu\n",
      "gsilver@umich.edu\n",
      "wagnermr@iupui.edu\n",
      "zqian@umich.edu\n",
      "antranig@caret.cam.ac.uk\n",
      "gopal.ramasammycook@gmail.com\n",
      "david.horwitz@uct.ac.za\n",
      "david.horwitz@uct.ac.za\n",
      "david.horwitz@uct.ac.za\n",
      "david.horwitz@uct.ac.za\n",
      "stephen.marquard@uct.ac.za\n",
      "louis@media.berkeley.edu\n",
      "louis@media.berkeley.edu\n",
      "ray@media.berkeley.edu\n",
      "cwen@iupui.edu\n",
      "cwen@iupui.edu\n",
      "cwen@iupui.edu\n",
      "There were 27 lines in the file with From as the first word\n"
     ]
    }
   ],
   "source": [
    "fh = open('mbox-short.txt')\n",
    "\n",
    "lst = []\n",
    "\n",
    "for i in fh:\n",
    "    \n",
    "    if i.startswith('From '):\n",
    "        y = i.strip().split()\n",
    "        lst.append(y)\n",
    "        print(y[1])\n",
    "        \n",
    "print(\"There were\", len(lst),'lines in the file with From as the first word')\n",
    "# lst1 = lst[1]\n",
    "\n",
    "# print(lst1[1])"
   ]
  },
  {
   "cell_type": "code",
   "execution_count": 196,
   "metadata": {},
   "outputs": [
    {
     "name": "stdout",
     "output_type": "stream",
     "text": [
      "stephen.marquard@uct.ac.za\n",
      "louis@media.berkeley.edu\n",
      "zqian@umich.edu\n",
      "rjlowe@iupui.edu\n",
      "zqian@umich.edu\n",
      "rjlowe@iupui.edu\n",
      "cwen@iupui.edu\n",
      "cwen@iupui.edu\n",
      "gsilver@umich.edu\n",
      "gsilver@umich.edu\n",
      "zqian@umich.edu\n",
      "gsilver@umich.edu\n",
      "wagnermr@iupui.edu\n",
      "zqian@umich.edu\n",
      "antranig@caret.cam.ac.uk\n",
      "gopal.ramasammycook@gmail.com\n",
      "david.horwitz@uct.ac.za\n",
      "david.horwitz@uct.ac.za\n",
      "david.horwitz@uct.ac.za\n",
      "david.horwitz@uct.ac.za\n",
      "stephen.marquard@uct.ac.za\n",
      "louis@media.berkeley.edu\n",
      "louis@media.berkeley.edu\n",
      "ray@media.berkeley.edu\n",
      "cwen@iupui.edu\n",
      "cwen@iupui.edu\n",
      "cwen@iupui.edu\n",
      "27\n"
     ]
    }
   ],
   "source": [
    "fh = open('mbox-short.txt')\n",
    "\n",
    "lst = []\n",
    "\n",
    "for i in fh:\n",
    "    y = i.strip()\n",
    "    #lst.append(y)\n",
    "    #print(y)\n",
    "    if y.startswith('From '):\n",
    "        y = i.split()\n",
    "        lst.append(y)\n",
    "        #print(y)\n",
    "\n",
    "\n",
    "\n",
    "    # for n in y:\n",
    "    #     lst.append(n)\n",
    "for i in lst:\n",
    "    print(i[1])\n",
    "\n",
    "print(len(lst))\n",
    "# print(\"There were\", len(lst),'lines in the file with From as the first word')\n"
   ]
  },
  {
   "cell_type": "code",
   "execution_count": 22,
   "metadata": {},
   "outputs": [
    {
     "name": "stdout",
     "output_type": "stream",
     "text": [
      "['But', 'soft', 'what', 'light', 'through', 'yonder', 'window', 'breaks']\n",
      "['It', 'is', 'the', 'east', 'and', 'Juliet', 'is', 'the', 'sun']\n",
      "['Arise', 'fair', 'sun', 'and', 'kill', 'the', 'envious', 'moon']\n",
      "['Who', 'is', 'already', 'sick', 'and', 'pale', 'with', 'grief']\n",
      "['But', 'soft', 'what', 'light', 'through', 'yonder', 'window', 'breaks', 'It', 'is', 'the', 'east', 'and', 'Juliet', 'sun', 'Arise', 'fair', 'kill', 'envious', 'moon', 'Who', 'already', 'sick', 'pale', 'with', 'grief']\n"
     ]
    }
   ],
   "source": [
    "#fn = input('')\n",
    "fh = open('romeo.txt')\n",
    "lst = []\n",
    "\n",
    "for i in fh:\n",
    "    y = i.strip().split()\n",
    "    for n in y:\n",
    "        if n not in lst:\n",
    "            lst.append(n)\n",
    "    print(y)\n",
    "\n",
    "print(lst)"
   ]
  },
  {
   "cell_type": "markdown",
   "metadata": {},
   "source": [
    "## 9.1 Dictonaries"
   ]
  },
  {
   "cell_type": "markdown",
   "metadata": {},
   "source": [
    "### Dictionary literals (contants)\n",
    "\n",
    "- Dictionary literals use curly braces and have a list of key: value pairs\n",
    "\n",
    "- you can make an empty dictionary using curly braces"
   ]
  },
  {
   "cell_type": "code",
   "execution_count": 26,
   "metadata": {},
   "outputs": [
    {
     "name": "stdout",
     "output_type": "stream",
     "text": [
      "{'chuck': 1, 'fred': 42, 'jan': 100}\n",
      "{'hola': 1, 'que': 3}\n"
     ]
    }
   ],
   "source": [
    "jjj = {'chuck':1, 'fred': 42, 'jan': 100}\n",
    "print(jjj) # print out {'chuck': 1, 'fred': 42, 'jan': 100}\n",
    "\n",
    "ooo = {} # an empty dictionary\n",
    "\n",
    "ooo['hola'] = 1\n",
    "ooo['que'] = 3\n",
    "\n",
    "print(ooo)"
   ]
  },
  {
   "cell_type": "markdown",
   "metadata": {},
   "source": [
    "## 9.2 Counting with Dictionaries"
   ]
  },
  {
   "cell_type": "markdown",
   "metadata": {},
   "source": [
    "One common use of dictionaries is counting how often we \"see\" something\n"
   ]
  },
  {
   "cell_type": "code",
   "execution_count": null,
   "metadata": {},
   "outputs": [],
   "source": [
    "ccc = {}\n",
    "ccc['hola'] = 1\n",
    "ccc['que'] = 1\n",
    "print(ccc)\n",
    "#print out: {'hola': 1, 'que': 1}\n",
    "\n",
    "ccc['hola'] = ccc['hola'] + 5\n",
    "print(ccc)\n",
    "#print out: {'hola': 6, 'que': 1}\n"
   ]
  },
  {
   "cell_type": "markdown",
   "metadata": {},
   "source": [
    "When we encounter a new name, we need to add a new entry in the dictionary and if this the second or later time we have seen the name, we simply add one to the the count in the dictionary under the name"
   ]
  },
  {
   "cell_type": "code",
   "execution_count": 37,
   "metadata": {},
   "outputs": [
    {
     "name": "stdout",
     "output_type": "stream",
     "text": [
      "3\n",
      "{'Caro': 3, 'Gabo': 4, 'Mateo': 1, 'Carlos': 1, 'Esteban': 1}\n"
     ]
    }
   ],
   "source": [
    "count = {}\n",
    "\n",
    "names = ['Caro', 'Gabo', 'Mateo', 'Carlos', 'Esteban', 'Caro', 'Gabo', 'Gabo', 'Gabo','Caro']\n",
    "\n",
    "for name in names:\n",
    "    if name not in count:\n",
    "        count[name] = 1\n",
    "    else:\n",
    "        count[name] = count[name] + 1\n",
    "\n",
    "\n",
    "x = count.get('Caro',0)\n",
    "print(x)\n",
    "\n",
    "print(count)"
   ]
  },
  {
   "cell_type": "markdown",
   "metadata": {},
   "source": [
    "### Simplified counting with get\n",
    "\n",
    "we can use get() and provide a default value zero when the key is not yet in the dictionary - and then just add one\n"
   ]
  },
  {
   "cell_type": "code",
   "execution_count": 38,
   "metadata": {},
   "outputs": [
    {
     "name": "stdout",
     "output_type": "stream",
     "text": [
      "{'Caro': 3, 'Gabo': 4, 'Mateo': 1, 'Carlos': 1, 'Esteban': 1}\n"
     ]
    }
   ],
   "source": [
    "count = {}\n",
    "\n",
    "names = ['Caro', 'Gabo', 'Mateo', 'Carlos', 'Esteban', 'Caro', 'Gabo', 'Gabo', 'Gabo','Caro']\n",
    "\n",
    "for name in names:\n",
    "    count[name] = count.get(name, 0) + 1\n",
    "\n",
    "print(count)"
   ]
  },
  {
   "cell_type": "markdown",
   "metadata": {},
   "source": [
    "## 9.3 Dictionaries and files\n",
    "\n",
    "### Counting pattern\n",
    "\n",
    "The general pattern to count the words in a line of text is to split the line into words, then loop through the words and use a dictionary to track the count of each word independently"
   ]
  },
  {
   "cell_type": "code",
   "execution_count": 46,
   "metadata": {},
   "outputs": [
    {
     "name": "stdout",
     "output_type": "stream",
     "text": [
      "['hola', 'hola', 'hola', 'como', 'como', 'vas']\n",
      "counts: {'hola': 3, 'como': 2, 'vas': 1}\n"
     ]
    }
   ],
   "source": [
    "count = {}\n",
    "\n",
    "line = input('Enter a line of text:')\n",
    "\n",
    "words = line.split()\n",
    "print (words)\n",
    "\n",
    "for word in words:\n",
    "    count[word] = count.get(word,0) + 1\n",
    "\n",
    "print('counts:',count)"
   ]
  },
  {
   "cell_type": "markdown",
   "metadata": {},
   "source": [
    "### Definite loop and dictionaries\n",
    "\n",
    "Even though dictionaries are not stored in order, we can write a for loop that goes through all the entries in a dictionary - actually it goes through all of the keys in the dictionary and looks up the value."
   ]
  },
  {
   "cell_type": "code",
   "execution_count": 47,
   "metadata": {},
   "outputs": [
    {
     "name": "stdout",
     "output_type": "stream",
     "text": [
      "hola 3\n",
      "como 2\n",
      "vas 1\n"
     ]
    }
   ],
   "source": [
    "count = {'hola': 3, 'como': 2, 'vas': 1}\n",
    "\n",
    "for key in count:\n",
    "    print(key, count[key])"
   ]
  },
  {
   "cell_type": "markdown",
   "metadata": {},
   "source": [
    "### Retrieving list of keys and values\n",
    "\n",
    "you can get a list of keys, values, or items (both) from a dictionary\n",
    "\n"
   ]
  },
  {
   "cell_type": "code",
   "execution_count": 50,
   "metadata": {},
   "outputs": [
    {
     "name": "stdout",
     "output_type": "stream",
     "text": [
      "['Caro', 'Gabo', 'Mateo', 'Carlos', 'Esteban']\n",
      "\n",
      "['Caro', 'Gabo', 'Mateo', 'Carlos', 'Esteban']\n",
      "\n",
      "[3, 4, 1, 1, 1]\n",
      "\n",
      "[('Caro', 3), ('Gabo', 4), ('Mateo', 1), ('Carlos', 1), ('Esteban', 1)]\n",
      "\n"
     ]
    }
   ],
   "source": [
    "jjj = {'Caro': 3, 'Gabo': 4, 'Mateo': 1, 'Carlos': 1, 'Esteban': 1}\n",
    "print(list(jjj))\n",
    "print()\n",
    "\n",
    "print(list(jjj.keys()))\n",
    "print()\n",
    "\n",
    "print(list(jjj.values()))\n",
    "print()\n",
    "\n",
    "print(list(jjj.items())) # Tuples\n",
    "print()"
   ]
  },
  {
   "cell_type": "markdown",
   "metadata": {},
   "source": [
    "### Two iteration variables\n",
    "\n",
    "- we loop through the key-value pairs a dictionary using *two* iteration variables\n",
    "\n",
    "- each iteration, the first varianble is the key and the second one is the value for the key"
   ]
  },
  {
   "cell_type": "code",
   "execution_count": 51,
   "metadata": {},
   "outputs": [
    {
     "name": "stdout",
     "output_type": "stream",
     "text": [
      "Caro 3\n",
      "Gabo 4\n",
      "Mateo 1\n",
      "Carlos 1\n",
      "Esteban 1\n"
     ]
    }
   ],
   "source": [
    "jjj = {'Caro': 3, 'Gabo': 4, 'Mateo': 1, 'Carlos': 1, 'Esteban': 1}\n",
    "\n",
    "for a,b in jjj.items():\n",
    "    print(a,b)"
   ]
  },
  {
   "cell_type": "code",
   "execution_count": 77,
   "metadata": {},
   "outputs": [
    {
     "name": "stdout",
     "output_type": "stream",
     "text": [
      "{'But': 1, 'soft': 1, 'what': 1, 'light': 1, 'through': 1, 'yonder': 1, 'window': 1, 'breaks': 1, 'It': 1, 'is': 3, 'the': 3, 'east': 1, 'and': 3, 'Juliet': 1, 'sun': 2, 'Arise': 1, 'fair': 1, 'kill': 1, 'envious': 1, 'moon': 1, 'Who': 1, 'already': 1, 'sick': 1, 'pale': 1, 'with': 1, 'grief': 1}\n",
      "is 3\n"
     ]
    }
   ],
   "source": [
    "fh = open('romeo.txt')\n",
    "\n",
    "counts = {}\n",
    "\n",
    "for line in fh:\n",
    "    lines = line.strip().split()\n",
    "    for word in lines:\n",
    "        counts[word] = counts.get(word, 0)+1\n",
    "\n",
    "bigword = None\n",
    "bigcount = None\n",
    "\n",
    "for word,count in counts.items():\n",
    "    if bigcount is None or count > bigcount:\n",
    "        bigword = word\n",
    "        bigcount = count\n",
    "\n",
    "\n",
    "print(counts)\n",
    "print(bigword, bigcount)"
   ]
  },
  {
   "cell_type": "code",
   "execution_count": 2,
   "metadata": {},
   "outputs": [
    {
     "name": "stdout",
     "output_type": "stream",
     "text": [
      "1\n"
     ]
    }
   ],
   "source": [
    "stuff = dict()\n",
    "print(stuff.get('candy',1))"
   ]
  },
  {
   "cell_type": "markdown",
   "metadata": {},
   "source": [
    "#### 9.4 Write a program to read through the mbox-short.txt and figure out who has sent the greatest number of mail messages. The program looks for 'From ' lines and takes the second word of those lines as the person who sent the mail. The program creates a Python dictionary that maps the sender's mail address to a count of the number of times they appear in the file. After the dictionary is produced, the program reads through the dictionary using a maximum loop to find the most prolific committer."
   ]
  },
  {
   "cell_type": "code",
   "execution_count": 4,
   "metadata": {},
   "outputs": [
    {
     "name": "stdout",
     "output_type": "stream",
     "text": [
      "zqian@umich.edu\n"
     ]
    }
   ],
   "source": [
    "fh = open('mbox-short.txt')\n",
    "\n",
    "counts = {}\n",
    "\n",
    "for i in fh:\n",
    "    if i.startswith('From '):\n",
    "        y = i.strip().split()\n",
    "        y = y[1]\n",
    "        #print(y)\n",
    "        #for n in x:\n",
    "        counts[y] = counts.get(y,0) + 1    \n",
    "       \n",
    "        \n",
    "\n",
    "print(counts)\n",
    "\n",
    "bigword = None\n",
    "bigcount = None\n",
    "\n",
    "for word,count in counts.items():\n",
    "    if bigcount is None or count > bigcount:\n",
    "        bigword = word\n",
    "        bigcount = count\n",
    "\n",
    "print(bigword,bigcount)\n",
    "\n"
   ]
  },
  {
   "cell_type": "markdown",
   "metadata": {},
   "source": [
    "Escribe un programa que imprima los 50 primeros números de la sucesión\n",
    "de Fibonacci empezando en 0.\n",
    "La serie Fibonacci se compone por una sucesión de números en\n",
    "la que el siguiente siempre es la suma de los dos anteriores.\n",
    "0, 1, 1, 2, 3, 5, 8, 13..."
   ]
  },
  {
   "cell_type": "code",
   "execution_count": 111,
   "metadata": {},
   "outputs": [
    {
     "name": "stdout",
     "output_type": "stream",
     "text": [
      "Actual: 1\n",
      "anterior 0\n",
      "aux 1\n",
      "Actual: 1\n",
      "anterior 1\n",
      "aux 1\n",
      "Actual: 2\n",
      "anterior 1\n",
      "aux 2\n",
      "Actual: 3\n",
      "anterior 2\n",
      "aux 3\n",
      "Actual: 5\n",
      "anterior 3\n",
      "aux 5\n",
      "Actual: 8\n",
      "anterior 5\n",
      "aux 8\n",
      "Actual: 13\n",
      "anterior 8\n",
      "aux 13\n",
      "Actual: 21\n",
      "anterior 13\n",
      "aux 21\n",
      "Actual: 34\n",
      "anterior 21\n",
      "aux 34\n",
      "Actual: 55\n",
      "anterior 34\n",
      "aux 55\n",
      "Actual: 89\n",
      "anterior 55\n",
      "aux 89\n",
      "Actual: 144\n",
      "anterior 89\n",
      "aux 144\n"
     ]
    }
   ],
   "source": [
    "anterior = 0\n",
    "actual = 1\n",
    "aux = 0\n",
    "\n",
    "while True:\n",
    "    if actual < 100:\n",
    "        \n",
    "        actual = actual + anterior\n",
    "        print('Actual:', actual) #'Anterior:', anterior, 'Aux:',aux)\n",
    "\n",
    "        anterior = aux\n",
    "        print('anterior', anterior)\n",
    "\n",
    "        aux = actual\n",
    "        print('aux', aux)\n",
    "\n",
    "    else:\n",
    "        break\n",
    "\n",
    "# 1 + 0 = 1\n",
    "# 1 + 1 = 2\n",
    "# 2 + 1 = 3\n",
    "# 3 + 2 = 5\n",
    "\n",
    "\n",
    "    \n"
   ]
  },
  {
   "cell_type": "code",
   "execution_count": null,
   "metadata": {},
   "outputs": [],
   "source": [
    "valor_anterior_1 = 0\n",
    "#valor_anterior2 = 0\n",
    "valor_actual = 1\n",
    "\n",
    "\n",
    "for i in range(51): #i = 3\n",
    "    \n",
    "    valor_actual = valor_actual + valor_anterior_1\n",
    "    valor_anterior_1 = valor_actual\n",
    "    \n",
    "    \n",
    "    print(valor_actual)\n",
    "\n",
    "    # print(i)"
   ]
  },
  {
   "cell_type": "markdown",
   "metadata": {},
   "source": [
    "## 10 Tuples\n",
    "\n",
    "Tuples is another kind of sequence that functions much like a list\n",
    "\n",
    "> They have elements which are indexed starting at 0"
   ]
  },
  {
   "cell_type": "code",
   "execution_count": 3,
   "metadata": {},
   "outputs": [
    {
     "name": "stdout",
     "output_type": "stream",
     "text": [
      "Gabo\n",
      "(1, 2, 3, 4, 5, 6)\n",
      "6\n",
      "1\n",
      "2\n",
      "3\n",
      "4\n",
      "5\n",
      "6\n"
     ]
    }
   ],
   "source": [
    "x = ('Caro','Gabo','Mateo')\n",
    "print(x[1]) # print out Gabo\n",
    "\n",
    "y = (1,2,3,4,5,6)\n",
    "print(y)\n",
    "print(max(y))\n",
    "\n",
    "for i in y:\n",
    "    print(i)\n"
   ]
  },
  {
   "cell_type": "markdown",
   "metadata": {},
   "source": [
    "Once you create a tuple, you cannot alter is contents / similar to a string"
   ]
  },
  {
   "cell_type": "markdown",
   "metadata": {},
   "source": [
    "### Tuples and assignment\n",
    "\n",
    "- We can also put a tuple on the left-hand side of an assignment statement \n",
    "- We can even omit the parentheses"
   ]
  },
  {
   "cell_type": "code",
   "execution_count": 7,
   "metadata": {},
   "outputs": [
    {
     "name": "stdout",
     "output_type": "stream",
     "text": [
      "4 hello\n",
      "hello\n",
      "99 98\n",
      "99\n"
     ]
    }
   ],
   "source": [
    "(x,y) = (4 , 'hello')\n",
    "print(x,y)\n",
    "print(y)\n",
    "a,b = (99,98)\n",
    "print(a,b)\n",
    "print(a)"
   ]
  },
  {
   "cell_type": "markdown",
   "metadata": {},
   "source": [
    "### Tuples and dictionaries\n",
    "\n",
    "> The item() method in dictionaries returns a list of (key,value) tuples"
   ]
  },
  {
   "cell_type": "code",
   "execution_count": 9,
   "metadata": {},
   "outputs": [
    {
     "name": "stdout",
     "output_type": "stream",
     "text": [
      "Gabo 24\n",
      "Caro 27\n",
      "\n",
      "dict_items([('Gabo', 24), ('Caro', 27)])\n"
     ]
    }
   ],
   "source": [
    "d = {}\n",
    "d['Gabo'] = 24\n",
    "d['Caro'] = 27\n",
    "\n",
    "for key,value in d.items():\n",
    "    print(key,value)\n",
    "\n",
    "print()\n",
    "\n",
    "tupls = d.items()\n",
    "print(tupls)"
   ]
  },
  {
   "cell_type": "markdown",
   "metadata": {},
   "source": [
    "### Tuples are comparable\n",
    "\n",
    "The comparison operator work with tuples and the other sequences. if the fisrt item is equal, python goes on to the next element, and so on, until it finds an element that differ."
   ]
  },
  {
   "cell_type": "code",
   "execution_count": 13,
   "metadata": {},
   "outputs": [
    {
     "data": {
      "text/plain": [
       "True"
      ]
     },
     "execution_count": 13,
     "metadata": {},
     "output_type": "execute_result"
    }
   ],
   "source": [
    "(0,1,2) < (1,0,2)"
   ]
  },
  {
   "cell_type": "markdown",
   "metadata": {},
   "source": [
    "### Sorting list of tuples\n",
    "\n",
    "> We can take advantage of the ability to sort a list of tuples to get a sorted version of a dictionary \n",
    "\n",
    "> First we sort dictionary by the key using items() method and sorted() function"
   ]
  },
  {
   "cell_type": "code",
   "execution_count": 19,
   "metadata": {},
   "outputs": [
    {
     "name": "stdout",
     "output_type": "stream",
     "text": [
      "dict_items([('c', 24), ('b', 27), ('a', 26)])\n"
     ]
    },
    {
     "data": {
      "text/plain": [
       "[('a', 26), ('b', 27), ('c', 24)]"
      ]
     },
     "execution_count": 19,
     "metadata": {},
     "output_type": "execute_result"
    }
   ],
   "source": [
    "dic = {'c':24,'b':27,'a':26}\n",
    "dic.items() # this is a list of tuples\n",
    "print(dic.items())\n",
    "sorted(dic.items())"
   ]
  },
  {
   "cell_type": "markdown",
   "metadata": {},
   "source": [
    "### Using sorted()\n",
    "\n",
    "> We can do this even more directly using the built-in function sorted() that takes a sequences as a parameter"
   ]
  },
  {
   "cell_type": "code",
   "execution_count": 22,
   "metadata": {},
   "outputs": [
    {
     "name": "stdout",
     "output_type": "stream",
     "text": [
      "[('a', 26), ('b', 27), ('c', 24)]\n",
      "a 26\n",
      "b 27\n",
      "c 24\n"
     ]
    }
   ],
   "source": [
    "dic = {'c':24,'b':27,'a':26}\n",
    "tup = sorted(dic.items()) #Sort by key\n",
    "print(tup)\n",
    "\n",
    "for k,v in tup:\n",
    "    print(k,v)"
   ]
  },
  {
   "cell_type": "markdown",
   "metadata": {},
   "source": [
    "### Sort by value instead of sort by key\n",
    "\n",
    "> if we could construct a list of touples of the form (value,key) we could sort by value\n",
    "> we do this with a for loop that creates a list of tuples"
   ]
  },
  {
   "cell_type": "code",
   "execution_count": 32,
   "metadata": {},
   "outputs": [
    {
     "name": "stdout",
     "output_type": "stream",
     "text": [
      "[(24, 'c'), (27, 'b'), (26, 'a')]\n",
      "\n",
      "[(24, 'c'), (26, 'a'), (27, 'b')]\n",
      "[(27, 'b'), (26, 'a'), (24, 'c')]\n"
     ]
    }
   ],
   "source": [
    "dic = {'c':24,'b':27,'a':26}\n",
    "lst = []\n",
    "for k,v in dic.items():\n",
    "    lst.append((v, k)) #with i'll create a list of tuples with k and v backwards\n",
    "\n",
    "print(lst)\n",
    "\n",
    "a = sorted(lst)\n",
    "b = sorted(lst, reverse=True)\n",
    "print()\n",
    "print(a)\n",
    "print(b)\n"
   ]
  },
  {
   "cell_type": "code",
   "execution_count": 40,
   "metadata": {},
   "outputs": [
    {
     "name": "stdout",
     "output_type": "stream",
     "text": [
      "{'a': 26, 'b': 27, 'c': 24}\n"
     ]
    }
   ],
   "source": [
    "a = [('a', 26), ('b', 27), ('c', 24)]\n",
    "b = dict(a) # convert a list of tuples in a dictionary\n",
    "\n",
    "print(b)"
   ]
  },
  {
   "cell_type": "markdown",
   "metadata": {},
   "source": [
    "### THe top 10 most common words"
   ]
  },
  {
   "cell_type": "code",
   "execution_count": 56,
   "metadata": {},
   "outputs": [
    {
     "name": "stdout",
     "output_type": "stream",
     "text": [
      "{'But': 1, 'soft': 1, 'what': 1, 'light': 1, 'through': 1, 'yonder': 1, 'window': 1, 'breaks': 1, 'It': 1, 'is': 3, 'the': 3, 'east': 1, 'and': 3, 'Juliet': 1, 'sun': 2, 'Arise': 1, 'fair': 1, 'kill': 1, 'envious': 1, 'moon': 1, 'Who': 1, 'already': 1, 'sick': 1, 'pale': 1, 'with': 1, 'grief': 1}\n",
      "[(3, 'the'), (3, 'is'), (3, 'and'), (2, 'sun'), (1, 'yonder'), (1, 'with'), (1, 'window'), (1, 'what'), (1, 'through'), (1, 'soft'), (1, 'sick'), (1, 'pale'), (1, 'moon'), (1, 'light'), (1, 'kill'), (1, 'grief'), (1, 'fair'), (1, 'envious'), (1, 'east'), (1, 'breaks'), (1, 'already'), (1, 'Who'), (1, 'Juliet'), (1, 'It'), (1, 'But'), (1, 'Arise')]\n",
      "1 the 3\n",
      "2 is 3\n",
      "3 and 3\n",
      "4 sun 2\n",
      "5 yonder 1\n",
      "6 with 1\n",
      "7 window 1\n",
      "8 what 1\n",
      "9 through 1\n",
      "10 soft 1\n"
     ]
    }
   ],
   "source": [
    "fh = open('romeo.txt')\n",
    "\n",
    "counts = {}\n",
    "\n",
    "for line in fh:\n",
    "    lines = line.strip().split()\n",
    "    for word in lines:\n",
    "        counts[word] = counts.get(word,0)+1\n",
    "\n",
    "print(counts)\n",
    "\n",
    "lst = []\n",
    "\n",
    "for key,val in counts.items():\n",
    "    lst.append((val,key))\n",
    "\n",
    "bw = sorted(lst, reverse=True)\n",
    "\n",
    "print(bw)\n",
    "con = 1\n",
    "\n",
    "for val,key in bw[:10]:\n",
    "    print(con, key, val)\n",
    "    con = con + 1"
   ]
  },
  {
   "cell_type": "markdown",
   "metadata": {},
   "source": [
    "### Even a shorter version of the last excersice\n",
    "\n",
    "> list comprenhesion creates a dynamic list. in this case, we make a list of reverse tuples and then sort it."
   ]
  },
  {
   "cell_type": "code",
   "execution_count": 60,
   "metadata": {},
   "outputs": [
    {
     "name": "stdout",
     "output_type": "stream",
     "text": [
      "[(3, 'the'), (3, 'is'), (3, 'and'), (2, 'sun'), (1, 'yonder'), (1, 'with'), (1, 'window'), (1, 'what'), (1, 'through'), (1, 'soft'), (1, 'sick'), (1, 'pale'), (1, 'moon'), (1, 'light'), (1, 'kill'), (1, 'grief'), (1, 'fair'), (1, 'envious'), (1, 'east'), (1, 'breaks'), (1, 'already'), (1, 'Who'), (1, 'Juliet'), (1, 'It'), (1, 'But'), (1, 'Arise')]\n"
     ]
    }
   ],
   "source": [
    "fh = open('romeo.txt')\n",
    "\n",
    "counts = {}\n",
    "\n",
    "for line in fh:\n",
    "    lines = line.strip().split()\n",
    "    for word in lines:\n",
    "        counts[word] = counts.get(word,0)+1\n",
    "\n",
    "print(sorted([ (v,k) for k,v in counts.items()], reverse=True))"
   ]
  },
  {
   "cell_type": "code",
   "execution_count": 62,
   "metadata": {},
   "outputs": [
    {
     "data": {
      "text/plain": [
       "4"
      ]
     },
     "execution_count": 62,
     "metadata": {},
     "output_type": "execute_result"
    }
   ],
   "source": [
    "x , y = 3, 4\n",
    "y"
   ]
  },
  {
   "cell_type": "markdown",
   "metadata": {},
   "source": [
    "#### 10.2 Write a program to read through the mbox-short.txt and figure out the distribution by hour of the day for each of the messages. You can pull the hour out from the 'From ' line by finding the time and then splitting the string a second time using a colon.\n",
    "From stephen.marquard@uct.ac.za Sat Jan  5 09:14:16 2008\n",
    "\n",
    "Once you have accumulated the counts for each hour, print out the counts, sorted by hour as shown below."
   ]
  },
  {
   "cell_type": "code",
   "execution_count": 83,
   "metadata": {},
   "outputs": [
    {
     "name": "stdout",
     "output_type": "stream",
     "text": [
      "{'09': 2, '18': 1, '16': 4, '15': 2, '14': 1, '11': 6, '10': 3, '07': 1, '06': 1, '04': 3, '19': 1, '17': 2}\n",
      "04 3\n",
      "06 1\n",
      "07 1\n",
      "09 2\n",
      "10 3\n",
      "11 6\n",
      "14 1\n",
      "15 2\n",
      "16 4\n",
      "17 2\n",
      "18 1\n",
      "19 1\n"
     ]
    }
   ],
   "source": [
    "fh = open('mbox-short.txt')\n",
    "\n",
    "counts = {}\n",
    "\n",
    "for i in fh:\n",
    "    if i.startswith('From '):\n",
    "        y = i.strip().split()\n",
    "        x = y[5].split(':')\n",
    "        hour = x[0]\n",
    "        counts[hour] = counts.get(hour,0) + 1 \n",
    "        # for w in x:\n",
    "        #     hour = w.split(':')\n",
    "        #     #print(hour)\n",
    "              \n",
    "#print(counts)\n",
    "\n",
    "srt = sorted(counts.items())\n",
    "\n",
    "for k,v in srt:\n",
    "    print(k,v)\n",
    "\n"
   ]
  }
 ],
 "metadata": {
  "kernelspec": {
   "display_name": "base",
   "language": "python",
   "name": "python3"
  },
  "language_info": {
   "codemirror_mode": {
    "name": "ipython",
    "version": 3
   },
   "file_extension": ".py",
   "mimetype": "text/x-python",
   "name": "python",
   "nbconvert_exporter": "python",
   "pygments_lexer": "ipython3",
   "version": "3.11.5"
  }
 },
 "nbformat": 4,
 "nbformat_minor": 2
}
