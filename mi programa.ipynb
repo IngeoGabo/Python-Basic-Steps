{
 "cells": [
  {
   "cell_type": "code",
   "execution_count": 12,
   "metadata": {},
   "outputs": [],
   "source": [
    "img.show()"
   ]
  },
  {
   "cell_type": "code",
   "execution_count": 36,
   "metadata": {},
   "outputs": [
    {
     "name": "stderr",
     "output_type": "stream",
     "text": [
      "C:\\Users\\gabox\\AppData\\Local\\Temp\\ipykernel_14340\\2956141730.py:21: DeprecationWarning: ANTIALIAS is deprecated and will be removed in Pillow 10 (2023-07-01). Use LANCZOS or Resampling.LANCZOS instead.\n",
      "  fixed_img = fixed_img.resize((width2, height2), Image.ANTIALIAS)\n",
      "C:\\Users\\gabox\\AppData\\Local\\Temp\\ipykernel_14340\\2956141730.py:28: DeprecationWarning: ANTIALIAS is deprecated and will be removed in Pillow 10 (2023-07-01). Use LANCZOS or Resampling.LANCZOS instead.\n",
      "  img = img.resize((width, height), Image.ANTIALIAS)\n"
     ]
    }
   ],
   "source": [
    "from PIL import Image\n",
    "import os\n",
    "\n",
    "# Directory containing images\n",
    "img_dir = r\"C:\\Users\\gabox\\OneDrive\\Imágenes\\1\"\n",
    "\n",
    "# Directory to save resized images\n",
    "output_dir = r\"C:\\Users\\gabox\\OneDrive\\Imágenes\\2\"\n",
    "\n",
    "fixed_img_path = r\"C:\\Users\\gabox\\OneDrive\\Imágenes\\3\\Screenshot 2024-05-03 212059.png\"\n",
    "\n",
    "# Desired size pxl\n",
    "width, height = 590, 800\n",
    "\n",
    "width1, height1 = 1500, 1500\n",
    "\n",
    "width2, height2 = 590, 100\n",
    "\n",
    "# Open the fixed image\n",
    "fixed_img = Image.open(fixed_img_path)\n",
    "fixed_img = fixed_img.resize((width2, height2), Image.ANTIALIAS)\n",
    "\n",
    "\n",
    "for filename in os.listdir(img_dir):\n",
    "    if filename.endswith(\".png\") or filename.endswith(\".jpg\"):\n",
    "        img_path = os.path.join(img_dir, filename)\n",
    "        img = Image.open(img_path)\n",
    "        img = img.resize((width, height), Image.ANTIALIAS)\n",
    "        \n",
    "        # Create a new white image of the desired size\n",
    "        background = Image.new('RGBA', (width1, height1), (255, 255, 255, 255))\n",
    "        \n",
    "        # Calculate the position to paste the image (centered)\n",
    "        paste_x = (background.width - img.width) // 2\n",
    "        paste_y = (background.height - img.height) // 2\n",
    "        \n",
    "        # Paste the image onto the white background\n",
    "        background.paste(img, (paste_x, paste_y))\n",
    "\n",
    "        # Calculate the position to paste the fixed image (centered at the top)\n",
    "        paste_x = (background.width - fixed_img.width) // 2\n",
    "        paste_y = 10  # Top of the image\n",
    "\n",
    "        # Paste the fixed image onto the background image\n",
    "        background.paste(fixed_img, (paste_x, paste_y), fixed_img)\n",
    "\n",
    "\n",
    "        \n",
    "        # Save the image with white background to the output directory\n",
    "        background.save(os.path.join(output_dir, filename))\n",
    "\n"
   ]
  },
  {
   "cell_type": "code",
   "execution_count": 8,
   "metadata": {},
   "outputs": [
    {
     "name": "stdout",
     "output_type": "stream",
     "text": [
      "@ Samludvig\n",
      "\n",
      "@Samanthaludvig\n",
      "\n",
      "Yo solo queria un polvito y ahora andamos\n",
      "mercando @ @ &\n",
      "\n",
      "\n"
     ]
    }
   ],
   "source": [
    "import pytesseract\n",
    "from pytesseract import Output\n",
    "from PIL import Image\n",
    "\n",
    "# Path to the image or video\n",
    "img_path = r\"C:\\Users\\gabox\\OneDrive\\Imágenes\\1\\Screenshot 2024-05-03 123011.png\"\n",
    "\n",
    "# Open the image\n",
    "img = Image.open(img_path)\n",
    "\n",
    "# Use pytesseract to convert the image into text\n",
    "text = pytesseract.image_to_string(img)\n",
    "\n",
    "# Print the text\n",
    "print(text)\n",
    "\n",
    "\n"
   ]
  },
  {
   "cell_type": "code",
   "execution_count": 7,
   "metadata": {},
   "outputs": [
    {
     "name": "stdout",
     "output_type": "stream",
     "text": [
      "Samludvig\n",
      "@Samanthaludvig\n",
      "\n",
      "\n"
     ]
    }
   ],
   "source": [
    "\n",
    "from PIL import Image\n",
    "import pytesseract\n",
    "\n",
    "# Path to the image or video\n",
    "img_path = r\"C:\\Users\\gabox\\OneDrive\\Imágenes\\1\\Screenshot 2024-05-03 122558.png\"\n",
    "\n",
    "# Open the image\n",
    "img = Image.open(img_path)\n",
    "\n",
    "# Use pytesseract to convert the image into text\n",
    "text = pytesseract.image_to_string(img)\n",
    "\n",
    "# Print the text\n",
    "print(text)\n",
    "\n"
   ]
  }
 ],
 "metadata": {
  "kernelspec": {
   "display_name": "base",
   "language": "python",
   "name": "python3"
  },
  "language_info": {
   "codemirror_mode": {
    "name": "ipython",
    "version": 3
   },
   "file_extension": ".py",
   "mimetype": "text/x-python",
   "name": "python",
   "nbconvert_exporter": "python",
   "pygments_lexer": "ipython3",
   "version": "3.11.5"
  }
 },
 "nbformat": 4,
 "nbformat_minor": 2
}
