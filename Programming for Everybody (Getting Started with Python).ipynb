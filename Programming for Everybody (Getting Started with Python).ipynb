{
 "cells": [
  {
   "cell_type": "markdown",
   "metadata": {},
   "source": [
    "# Hello EVERYONE!"
   ]
  },
  {
   "cell_type": "markdown",
   "metadata": {},
   "source": [
    "#### 2.3 Write a program to prompt the user for hours and rate per hour using input to compute gross pay. Use 35 hours and a rate of 2.75 per hour to test the program (the pay should be 96.25). You should use input to read a string and float() to convert the string to a number. Do not worry about error checking or bad user data."
   ]
  },
  {
   "cell_type": "code",
   "execution_count": 12,
   "metadata": {},
   "outputs": [
    {
     "name": "stdout",
     "output_type": "stream",
     "text": [
      "Pay: 96.25\n"
     ]
    }
   ],
   "source": [
    "hrs = input(\"Enter Hours:\")\n",
    "hrs = int(hrs)\n",
    "rate = input(\"Enter Rate per Hour\")\n",
    "rate = float(rate)\n",
    "gsp = hrs*rate\n",
    "print('Pay:',gsp)\n"
   ]
  },
  {
   "cell_type": "markdown",
   "metadata": {},
   "source": [
    "When i enter an input, the result it's going to be an str (string) i can use flota() or int() to convert them into a \"number\", then i can operate with it."
   ]
  },
  {
   "cell_type": "code",
   "execution_count": 1,
   "metadata": {},
   "outputs": [],
   "source": [
    "x=1\n"
   ]
  },
  {
   "cell_type": "code",
   "execution_count": 5,
   "metadata": {},
   "outputs": [
    {
     "data": {
      "text/plain": [
       "int"
      ]
     },
     "execution_count": 5,
     "metadata": {},
     "output_type": "execute_result"
    }
   ],
   "source": [
    "x==2\n",
    "type(x)"
   ]
  },
  {
   "cell_type": "markdown",
   "metadata": {},
   "source": [
    "## Comparison Operators"
   ]
  },
  {
   "cell_type": "code",
   "execution_count": null,
   "metadata": {},
   "outputs": [],
   "source": [
    "<        #Less than\n",
    "<=       #Less than or equal to\n",
    "==       #Equal to (but it's a question)\n",
    ">        #Greater than\n",
    ">=       #Greater than or equal to\n",
    "!=       #Not equal"
   ]
  },
  {
   "cell_type": "code",
   "execution_count": 7,
   "metadata": {},
   "outputs": [
    {
     "name": "stdout",
     "output_type": "stream",
     "text": [
      "Medium\n",
      "All done\n"
     ]
    }
   ],
   "source": [
    "x = 3\n",
    "if x < 2 :\n",
    "    print('Small')\n",
    "elif x < 10 :\n",
    "    print('Medium')\n",
    "else :\n",
    "    print('LARGE')\n",
    "print('All done')"
   ]
  },
  {
   "cell_type": "markdown",
   "metadata": {},
   "source": [
    "#### 3.1 Write a program to prompt the user for hours and rate per hour using input to compute gross pay. Pay the hourly rate for the hours up to 40 and 1.5 times the hourly rate for all hours worked above 40 hours. Use 45 hours and a rate of 10.50 per hour to test the program (the pay should be 498.75). You should use input to read a string and float() to convert the string to a number. Do not worry about error checking the user input - assume the user types numbers properly."
   ]
  },
  {
   "cell_type": "code",
   "execution_count": 16,
   "metadata": {},
   "outputs": [
    {
     "name": "stdout",
     "output_type": "stream",
     "text": [
      "498.75\n"
     ]
    }
   ],
   "source": [
    "hrs = input(\"Enter Hours:\")\n",
    "rate = input('Enter Rate:')\n",
    "hrs = float(hrs)\n",
    "rate = float (rate) \n",
    "\n",
    "if hrs < 40:\n",
    "    pay = rate*hrs\n",
    "\n",
    "elif hrs >= 40:\n",
    "    pay = rate*40 + rate*1.5*(hrs-40)\n",
    "\n",
    "print(pay)\n"
   ]
  },
  {
   "cell_type": "markdown",
   "metadata": {},
   "source": [
    "#### 3.3 Write a program to prompt for a score between 0.0 and 1.0. If the score is out of range, print an error. If the score is between 0.0 and 1.0, print a grade using the following table:\n",
    "Score Grade\n",
    "*>= 0.9 A\n",
    "*>= 0.8 B\n",
    "*>= 0.7 C\n",
    "*>= 0.6 D\n",
    "*< 0.6 F\n",
    "If the user enters a value out of range, print a suitable error message and exit. For the test, enter a score of 0.85."
   ]
  },
  {
   "cell_type": "code",
   "execution_count": 22,
   "metadata": {},
   "outputs": [
    {
     "name": "stdout",
     "output_type": "stream",
     "text": [
      "error\n"
     ]
    }
   ],
   "source": [
    "score = input(\"Enter Score: \")\n",
    "score = float(score)\n",
    "\n",
    "if score>0.0 and score<1.0:\n",
    "\n",
    "    if score >= 0.9:\n",
    "        print('A')\n",
    "\n",
    "    elif score >= 0.8:\n",
    "        print('B')\n",
    "\n",
    "    elif score >= 0.7:\n",
    "        print('C')\n",
    "\n",
    "    elif score >= 0.6:\n",
    "        print('D')\n",
    "\n",
    "    elif score < 0.6:\n",
    "        print('f')\n",
    "else:\n",
    "    print('error')"
   ]
  },
  {
   "cell_type": "markdown",
   "metadata": {},
   "source": [
    "#### 4.6 Write a program to prompt the user for hours and rate per hour using input to compute gross pay. Pay should be the normal rate for hours up to 40 and time-and-a-half for the hourly rate for all hours worked above 40 hours. Put the logic to do the computation of pay in a function called computepay() and use the function to do the computation. The function should return a value. Use 45 hours and a rate of 10.50 per hour to test the program (the pay should be 498.75). You should use input to read a string and float() to convert the string to a number. Do not worry about error checking the user input unless you want to - you can assume the user types numbers properly. Do not name your variable sum or use the sum() function.\n"
   ]
  },
  {
   "cell_type": "code",
   "execution_count": 8,
   "metadata": {},
   "outputs": [
    {
     "name": "stdout",
     "output_type": "stream",
     "text": [
      "Pay 498.75\n"
     ]
    }
   ],
   "source": [
    "h = float(input('Enter hours:'))\n",
    "r = float(input('Enter rate:'))\n",
    "\n",
    "def computepay(h, r):\n",
    "    if h < 40:\n",
    "        return h*r\n",
    "    \n",
    "    elif h >= 40:\n",
    "        return h*r + (r/2)*(h-40)\n",
    "\n",
    "p = computepay(h, r)\n",
    "\n",
    "print('Pay', p)\n",
    "\n"
   ]
  },
  {
   "cell_type": "markdown",
   "metadata": {},
   "source": [
    "## 5.1 - Loops and Iteration"
   ]
  },
  {
   "cell_type": "code",
   "execution_count": null,
   "metadata": {},
   "outputs": [],
   "source": [
    "n = 5\n",
    "while n > 0 :\n",
    "    print(n)\n",
    "    n = n - 1\n",
    "\n",
    "print('Blastoff')\n",
    "print(n)"
   ]
  },
  {
   "cell_type": "code",
   "execution_count": 4,
   "metadata": {},
   "outputs": [
    {
     "name": "stdout",
     "output_type": "stream",
     "text": [
      "Done!\n"
     ]
    }
   ],
   "source": [
    "while True:\n",
    "    line = input('>')\n",
    "    if line[0] == '#':\n",
    "        continue\n",
    "    if line == 'done':\n",
    "        break\n",
    "    print(line)\n",
    "print('Done!')\n"
   ]
  },
  {
   "cell_type": "markdown",
   "metadata": {},
   "source": [
    "## 5.2 - Definite Loops"
   ]
  },
  {
   "cell_type": "code",
   "execution_count": 5,
   "metadata": {},
   "outputs": [
    {
     "name": "stdout",
     "output_type": "stream",
     "text": [
      "Before -1\n",
      "9 9\n",
      "41 41\n",
      "41 12\n",
      "74 74\n",
      "74 15\n",
      "After 74\n"
     ]
    }
   ],
   "source": [
    "# Finding the largest value\n",
    "\n",
    "Largest_so_far = -1\n",
    "print('Before', Largest_so_far)\n",
    "\n",
    "for the_num in [9, 41, 12, 74, 15]:\n",
    "    \n",
    "    if the_num > Largest_so_far:\n",
    "        Largest_so_far = the_num\n",
    "    print(Largest_so_far, the_num)\n",
    "\n",
    "print('After', Largest_so_far)\n",
    "    "
   ]
  },
  {
   "cell_type": "markdown",
   "metadata": {},
   "source": [
    "#### Exercise 1: Write a program which repeatedly reads integers until the user enters “done”. Once “done” is entered, print out the total, count, and average of the integers. If the user enters anything other than a integers, detect their mistake using try and except and print an error message and skip to the next integers."
   ]
  },
  {
   "cell_type": "code",
   "execution_count": 27,
   "metadata": {},
   "outputs": [
    {
     "name": "stdout",
     "output_type": "stream",
     "text": [
      "Invalid input\n",
      "16 3 5.333333333333333\n",
      "Done!\n"
     ]
    }
   ],
   "source": [
    "total = 0\n",
    "count = 0\n",
    "\n",
    "while True:\n",
    "    ival = input('Enter a number', )\n",
    "\n",
    "    try:\n",
    "        if ival == 'done':\n",
    "            break\n",
    "\n",
    "        total = total + int(ival)\n",
    "        count = count + 1\n",
    "    \n",
    "    except:\n",
    "        print('Invalid input')\n",
    "    \n",
    "avr = total/count\n",
    "\n",
    "print(total, count, avr)\n",
    "print('Done!')\n",
    "    \n",
    "\n"
   ]
  },
  {
   "cell_type": "markdown",
   "metadata": {},
   "source": [
    "## 5.4 - Loop Idioms"
   ]
  },
  {
   "cell_type": "code",
   "execution_count": null,
   "metadata": {},
   "outputs": [],
   "source": [
    "# Counting in a loop\n",
    "\n",
    "count = 0    #Always i have to set up a variable which starts in 0\n",
    "print('Before', count)\n",
    "\n",
    "for i in [12, 13, 14, 15, 16]:\n",
    "    count = count + 1 #This will count de number of times that the loop was executed.\n",
    "    print(count, i)\n",
    "\n",
    "print('After', count, i)\n"
   ]
  },
  {
   "cell_type": "code",
   "execution_count": null,
   "metadata": {},
   "outputs": [],
   "source": [
    "# Summing in a loop\n",
    "\n",
    "total = 0    #Always i have to set up a variable which starts in 0\n",
    "print('Before', total)\n",
    "\n",
    "for i in [12, 13, 14, 15, 16]:\n",
    "    total = total + i #This will sum every iteration number i with the total before.\n",
    "    print(total, i)\n",
    "\n",
    "print('After', total, i)\n"
   ]
  },
  {
   "cell_type": "code",
   "execution_count": null,
   "metadata": {},
   "outputs": [],
   "source": [
    "# Search using a boolean variable\n",
    "\n",
    "found = False\n",
    "print('Before', found)\n",
    "\n",
    "for value in [1,9,2,8,3,7,4]:\n",
    "    if value == 3: #\n",
    "        found = True\n",
    "    print(found, value)\n",
    "\n",
    "print('After', found)"
   ]
  },
  {
   "cell_type": "code",
   "execution_count": null,
   "metadata": {},
   "outputs": [],
   "source": [
    "# How to find the smallest value\n",
    "\n",
    "smallest = None\n",
    "print('Before', smallest)\n",
    "\n",
    "for value in [9, 41, 12, 74, 3, 15]:\n",
    "    \n",
    "    if smallest is None:\n",
    "        smallest = value\n",
    "    \n",
    "    elif value < smallest:\n",
    "        smallest = value\n",
    "\n",
    "    print(smallest, value)\n",
    "\n",
    "print('After', smallest)"
   ]
  },
  {
   "cell_type": "markdown",
   "metadata": {},
   "source": [
    "#### 5.2 Write a program that repeatedly prompts a user for integer numbers until the user enters 'done'. Once 'done' is entered, print out the largest and smallest of the numbers. If the user enters anything other than a valid number catch it with a try/except and put out an appropriate message and ignore the number. Enter 7, 2, bob, 10, and 4 and match the output below.\n",
    "\n",
    "Invalid input\n",
    "Maximum is 10\n",
    "Minimum is 2"
   ]
  },
  {
   "cell_type": "code",
   "execution_count": 6,
   "metadata": {},
   "outputs": [
    {
     "name": "stdout",
     "output_type": "stream",
     "text": [
      "Invalid input\n",
      "Maximum is 10\n",
      "Minimun is 2\n"
     ]
    }
   ],
   "source": [
    "largest = -1\n",
    "smallest = None\n",
    "\n",
    "while True:\n",
    "    \n",
    "    try:\n",
    "    \n",
    "        ival = input('Enter a number', )\n",
    "\n",
    "        if ival == 'done':\n",
    "            break\n",
    "\n",
    "        ival = int(ival)\n",
    "\n",
    "        if ival > largest:\n",
    "            largest = ival\n",
    "\n",
    "        if smallest is None:\n",
    "            smallest = ival\n",
    "        \n",
    "        elif ival < smallest:\n",
    "            smallest = ival\n",
    "    \n",
    "    except:\n",
    "\n",
    "        print('Invalid input')\n",
    "\n",
    "print('Maximum is', largest)\n",
    "print('Minimum is', smallest)\n",
    "\n"
   ]
  }
 ],
 "metadata": {
  "kernelspec": {
   "display_name": "base",
   "language": "python",
   "name": "python3"
  },
  "language_info": {
   "codemirror_mode": {
    "name": "ipython",
    "version": 3
   },
   "file_extension": ".py",
   "mimetype": "text/x-python",
   "name": "python",
   "nbconvert_exporter": "python",
   "pygments_lexer": "ipython3",
   "version": "3.11.5"
  }
 },
 "nbformat": 4,
 "nbformat_minor": 2
}
